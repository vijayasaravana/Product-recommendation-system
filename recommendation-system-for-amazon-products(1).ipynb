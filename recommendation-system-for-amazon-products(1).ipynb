{
 "cells": [
  {
   "cell_type": "markdown",
   "id": "4b22eb36",
   "metadata": {
    "_cell_guid": "b1076dfc-b9ad-4769-8c92-a6c4dae69d19",
    "_uuid": "8f2839f25d086af736a60e9eeb907d3b93b6e0e5",
    "papermill": {
     "duration": 0.055303,
     "end_time": "2021-11-30T00:09:39.872571",
     "exception": false,
     "start_time": "2021-11-30T00:09:39.817268",
     "status": "completed"
    },
    "tags": []
   },
   "source": [
    "# **Recommeder System Using Amazon Reviews**"
   ]
  },
  {
   "cell_type": "markdown",
   "id": "d41a9ef6",
   "metadata": {
    "papermill": {
     "duration": 0.059528,
     "end_time": "2021-11-30T00:09:39.988310",
     "exception": false,
     "start_time": "2021-11-30T00:09:39.928782",
     "status": "completed"
    },
    "tags": []
   },
   "source": [
    "> <center><img src=\"https://cdn.vox-cdn.com/thumbor/yUpkdU-kEcTqiO0gntohs74rXYE=/1400x788/filters:format(jpeg)/cdn.vox-cdn.com/uploads/chorus_asset/file/19718016/Amazon_Reviews_Final.jpg\" width=\"1000px\"></center>"
   ]
  },
  {
   "cell_type": "markdown",
   "id": "d145c7dd",
   "metadata": {
    "papermill": {
     "duration": 0.058828,
     "end_time": "2021-11-30T00:09:40.126664",
     "exception": false,
     "start_time": "2021-11-30T00:09:40.067836",
     "status": "completed"
    },
    "tags": []
   },
   "source": [
    "<h1 style='color:white;background-color:black' > Table of Contents </h1>\n",
    "\n",
    "* [Introduction](#introduction)\n",
    "* [Data Acquisition](#data_acquisition)\n",
    "* [EDA](#eda)\n",
    "* [Type of Recommender System](#recommender)\n",
    "    * [Popular-Based](#popular)\n",
    "    * [Content-Based](#content)\n",
    "    * [Collaborative Filtering](#colla)\n",
    "    * [Hybrid](#hybrid)"
   ]
  },
  {
   "cell_type": "markdown",
   "id": "9db30136",
   "metadata": {
    "papermill": {
     "duration": 0.05291,
     "end_time": "2021-11-30T00:09:40.232273",
     "exception": false,
     "start_time": "2021-11-30T00:09:40.179363",
     "status": "completed"
    },
    "tags": []
   },
   "source": [
    "<a id=\"introduction\"></a>\n",
    "## 1. Introduction"
   ]
  },
  {
   "cell_type": "markdown",
   "id": "334a2e15",
   "metadata": {
    "papermill": {
     "duration": 0.053332,
     "end_time": "2021-11-30T00:09:40.339947",
     "exception": false,
     "start_time": "2021-11-30T00:09:40.286615",
     "status": "completed"
    },
    "tags": []
   },
   "source": [
    "<div align='left'><font size=\"3\" color=\"#000000\"> Online E-commerce websites like Amazon, Filpkart uses different recommendation models to provide different suggestions to different users. Amazon currently uses item-to-item collaborative filtering, which scales to massive data sets and produces high-quality recommendations in real time. This type of filtering matches each of the user's purchased and rated items to similar items, then combines those similar items into a recommendation list for the user.\n",
    "</font></div>\n",
    "\n",
    "* **Goal:**\n",
    "<div align='left'><font size=\"3\" color=\"#000000\"> In this project we are going to build recommendation model for the electronics products of Amazon.\n",
    "</font></div>\n",
    "\n",
    "\n",
    "* **Attribute Information:**\n",
    "<div align='left'><font size=\"3\" color=\"#000000\"> \n",
    "<ul>\n",
    "  <li>userId : Every user identified with a unique id (First Column)</li>\n",
    "  <li>productId : Every product identified with a unique id(Second Column)</li>\n",
    "  <li>Rating : Rating of the corresponding product by the corresponding user(Third Column)</li>\n",
    "  <li>timestamp : Time of the rating ( Fourth Column)</li>\n",
    "</ul>\n",
    "</font></div>\n"
   ]
  },
  {
   "cell_type": "markdown",
   "id": "d43cb17c",
   "metadata": {
    "papermill": {
     "duration": 0.135163,
     "end_time": "2021-11-30T00:09:40.529343",
     "exception": false,
     "start_time": "2021-11-30T00:09:40.394180",
     "status": "completed"
    },
    "tags": []
   },
   "source": [
    "<a id=\"data_acquisition\"></a>\n",
    "## 2. Data Acquisition"
   ]
  },
  {
   "cell_type": "markdown",
   "id": "6c2da4d4",
   "metadata": {
    "papermill": {
     "duration": 0.053119,
     "end_time": "2021-11-30T00:09:40.634963",
     "exception": false,
     "start_time": "2021-11-30T00:09:40.581844",
     "status": "completed"
    },
    "tags": []
   },
   "source": [
    "### Import Libraries"
   ]
  },
  {
   "cell_type": "code",
   "execution_count": 1,
   "id": "2497402f",
   "metadata": {
    "execution": {
     "iopub.execute_input": "2021-11-30T00:09:40.744788Z",
     "iopub.status.busy": "2021-11-30T00:09:40.743427Z",
     "iopub.status.idle": "2021-11-30T00:09:41.962655Z",
     "shell.execute_reply": "2021-11-30T00:09:41.961904Z",
     "shell.execute_reply.started": "2021-11-29T06:57:56.009748Z"
    },
    "papermill": {
     "duration": 1.275767,
     "end_time": "2021-11-30T00:09:41.962876",
     "exception": false,
     "start_time": "2021-11-30T00:09:40.687109",
     "status": "completed"
    },
    "tags": []
   },
   "outputs": [
    {
     "ename": "ModuleNotFoundError",
     "evalue": "No module named 'surprise'",
     "output_type": "error",
     "traceback": [
      "\u001b[1;31m---------------------------------------------------------------------------\u001b[0m",
      "\u001b[1;31mModuleNotFoundError\u001b[0m                       Traceback (most recent call last)",
      "Input \u001b[1;32mIn [1]\u001b[0m, in \u001b[0;36m<cell line: 12>\u001b[1;34m()\u001b[0m\n\u001b[0;32m      9\u001b[0m \u001b[38;5;66;03m# Split\u001b[39;00m\n\u001b[0;32m     10\u001b[0m \u001b[38;5;28;01mfrom\u001b[39;00m \u001b[38;5;21;01msklearn\u001b[39;00m\u001b[38;5;21;01m.\u001b[39;00m\u001b[38;5;21;01mmodel_selection\u001b[39;00m \u001b[38;5;28;01mimport\u001b[39;00m train_test_split\n\u001b[1;32m---> 12\u001b[0m \u001b[38;5;28;01mfrom\u001b[39;00m \u001b[38;5;21;01msurprise\u001b[39;00m \u001b[38;5;28;01mimport\u001b[39;00m Reader, Dataset, SVD\n\u001b[0;32m     13\u001b[0m \u001b[38;5;28;01mfrom\u001b[39;00m \u001b[38;5;21;01msurprise\u001b[39;00m\u001b[38;5;21;01m.\u001b[39;00m\u001b[38;5;21;01mmodel_selection\u001b[39;00m \u001b[38;5;28;01mimport\u001b[39;00m cross_validate\n",
      "\u001b[1;31mModuleNotFoundError\u001b[0m: No module named 'surprise'"
     ]
    }
   ],
   "source": [
    "import numpy as np # linear algebra\n",
    "import pandas as pd # data processing, CSV file I/O (e.g. pd.read_csv)\n",
    "\n",
    "import matplotlib.pyplot as plt\n",
    "import seaborn as sns\n",
    "sns.set_style('white')\n",
    "%matplotlib inline\n",
    "\n",
    "# Split\n",
    "from sklearn.model_selection import train_test_split\n",
    "\n",
    "from surprise import Reader, Dataset, SVD\n",
    "from surprise.model_selection import cross_validate\n",
    "\n"
   ]
  },
  {
   "cell_type": "markdown",
   "id": "bfd0d0e4",
   "metadata": {
    "papermill": {
     "duration": 0.052301,
     "end_time": "2021-11-30T00:09:42.069639",
     "exception": false,
     "start_time": "2021-11-30T00:09:42.017338",
     "status": "completed"
    },
    "tags": []
   },
   "source": [
    "### Load Dataset"
   ]
  },
  {
   "cell_type": "code",
   "execution_count": 3,
   "id": "0aa6d0f2",
   "metadata": {
    "execution": {
     "iopub.execute_input": "2021-11-30T00:09:42.179686Z",
     "iopub.status.busy": "2021-11-30T00:09:42.178980Z",
     "iopub.status.idle": "2021-11-30T00:09:53.764481Z",
     "shell.execute_reply": "2021-11-30T00:09:53.763460Z",
     "shell.execute_reply.started": "2021-11-29T06:42:47.541376Z"
    },
    "papermill": {
     "duration": 11.641733,
     "end_time": "2021-11-30T00:09:53.764756",
     "exception": false,
     "start_time": "2021-11-30T00:09:42.123023",
     "status": "completed"
    },
    "tags": []
   },
   "outputs": [],
   "source": [
    "df = pd.read_csv(r\"C:\\Users\\SUPER\\Downloads\\ratings_Electronics.csv\",\n",
    "                             names=['userId', 'productId','rating','timestamp'])"
   ]
  },
  {
   "cell_type": "markdown",
   "id": "0709d86a",
   "metadata": {
    "papermill": {
     "duration": 0.053786,
     "end_time": "2021-11-30T00:09:53.871402",
     "exception": false,
     "start_time": "2021-11-30T00:09:53.817616",
     "status": "completed"
    },
    "tags": []
   },
   "source": [
    "<a id=\"eda\"></a>\n",
    "## 3. EDA"
   ]
  },
  {
   "cell_type": "code",
   "execution_count": 3,
   "id": "dfbb383e",
   "metadata": {
    "execution": {
     "iopub.execute_input": "2021-11-30T00:09:53.981749Z",
     "iopub.status.busy": "2021-11-30T00:09:53.981048Z",
     "iopub.status.idle": "2021-11-30T00:09:54.003153Z",
     "shell.execute_reply": "2021-11-30T00:09:54.003737Z",
     "shell.execute_reply.started": "2021-11-29T06:42:58.18167Z"
    },
    "papermill": {
     "duration": 0.078853,
     "end_time": "2021-11-30T00:09:54.003948",
     "exception": false,
     "start_time": "2021-11-30T00:09:53.925095",
     "status": "completed"
    },
    "tags": []
   },
   "outputs": [
    {
     "data": {
      "text/html": [
       "<div>\n",
       "<style scoped>\n",
       "    .dataframe tbody tr th:only-of-type {\n",
       "        vertical-align: middle;\n",
       "    }\n",
       "\n",
       "    .dataframe tbody tr th {\n",
       "        vertical-align: top;\n",
       "    }\n",
       "\n",
       "    .dataframe thead th {\n",
       "        text-align: right;\n",
       "    }\n",
       "</style>\n",
       "<table border=\"1\" class=\"dataframe\">\n",
       "  <thead>\n",
       "    <tr style=\"text-align: right;\">\n",
       "      <th></th>\n",
       "      <th>userId</th>\n",
       "      <th>productId</th>\n",
       "      <th>rating</th>\n",
       "      <th>timestamp</th>\n",
       "    </tr>\n",
       "  </thead>\n",
       "  <tbody>\n",
       "    <tr>\n",
       "      <th>0</th>\n",
       "      <td>AKM1MP6P0OYPR</td>\n",
       "      <td>0132793040</td>\n",
       "      <td>5.0</td>\n",
       "      <td>1365811200</td>\n",
       "    </tr>\n",
       "    <tr>\n",
       "      <th>1</th>\n",
       "      <td>A2CX7LUOHB2NDG</td>\n",
       "      <td>0321732944</td>\n",
       "      <td>5.0</td>\n",
       "      <td>1341100800</td>\n",
       "    </tr>\n",
       "    <tr>\n",
       "      <th>2</th>\n",
       "      <td>A2NWSAGRHCP8N5</td>\n",
       "      <td>0439886341</td>\n",
       "      <td>1.0</td>\n",
       "      <td>1367193600</td>\n",
       "    </tr>\n",
       "    <tr>\n",
       "      <th>3</th>\n",
       "      <td>A2WNBOD3WNDNKT</td>\n",
       "      <td>0439886341</td>\n",
       "      <td>3.0</td>\n",
       "      <td>1374451200</td>\n",
       "    </tr>\n",
       "    <tr>\n",
       "      <th>4</th>\n",
       "      <td>A1GI0U4ZRJA8WN</td>\n",
       "      <td>0439886341</td>\n",
       "      <td>1.0</td>\n",
       "      <td>1334707200</td>\n",
       "    </tr>\n",
       "  </tbody>\n",
       "</table>\n",
       "</div>"
      ],
      "text/plain": [
       "           userId   productId  rating   timestamp\n",
       "0   AKM1MP6P0OYPR  0132793040     5.0  1365811200\n",
       "1  A2CX7LUOHB2NDG  0321732944     5.0  1341100800\n",
       "2  A2NWSAGRHCP8N5  0439886341     1.0  1367193600\n",
       "3  A2WNBOD3WNDNKT  0439886341     3.0  1374451200\n",
       "4  A1GI0U4ZRJA8WN  0439886341     1.0  1334707200"
      ]
     },
     "execution_count": 3,
     "metadata": {},
     "output_type": "execute_result"
    }
   ],
   "source": [
    "df.head()"
   ]
  },
  {
   "cell_type": "code",
   "execution_count": 4,
   "id": "1866d88b",
   "metadata": {
    "execution": {
     "iopub.execute_input": "2021-11-30T00:09:54.117008Z",
     "iopub.status.busy": "2021-11-30T00:09:54.116225Z",
     "iopub.status.idle": "2021-11-30T00:09:54.121823Z",
     "shell.execute_reply": "2021-11-30T00:09:54.120835Z",
     "shell.execute_reply.started": "2021-11-29T06:42:58.205424Z"
    },
    "papermill": {
     "duration": 0.065097,
     "end_time": "2021-11-30T00:09:54.122078",
     "exception": false,
     "start_time": "2021-11-30T00:09:54.056981",
     "status": "completed"
    },
    "tags": []
   },
   "outputs": [
    {
     "name": "stdout",
     "output_type": "stream",
     "text": [
      "Total Reviews: 7824482\n",
      "Total Columns: 4\n"
     ]
    }
   ],
   "source": [
    "print(\"Total Reviews:\",df.shape[0])\n",
    "print(\"Total Columns:\",df.shape[1])"
   ]
  },
  {
   "cell_type": "code",
   "execution_count": 5,
   "id": "6bb87481",
   "metadata": {
    "execution": {
     "iopub.execute_input": "2021-11-30T00:09:54.244551Z",
     "iopub.status.busy": "2021-11-30T00:09:54.243806Z",
     "iopub.status.idle": "2021-11-30T00:09:54.245350Z",
     "shell.execute_reply": "2021-11-30T00:09:54.245977Z",
     "shell.execute_reply.started": "2021-11-29T06:42:58.216659Z"
    },
    "papermill": {
     "duration": 0.067626,
     "end_time": "2021-11-30T00:09:54.246195",
     "exception": false,
     "start_time": "2021-11-30T00:09:54.178569",
     "status": "completed"
    },
    "tags": []
   },
   "outputs": [],
   "source": [
    "# Taking subset of the dataset\n",
    "df = df.iloc[:5000,0:]"
   ]
  },
  {
   "cell_type": "code",
   "execution_count": 6,
   "id": "1dd21918",
   "metadata": {
    "execution": {
     "iopub.execute_input": "2021-11-30T00:09:54.357576Z",
     "iopub.status.busy": "2021-11-30T00:09:54.356848Z",
     "iopub.status.idle": "2021-11-30T00:09:54.363341Z",
     "shell.execute_reply": "2021-11-30T00:09:54.362568Z",
     "shell.execute_reply.started": "2021-11-29T06:42:58.231948Z"
    },
    "papermill": {
     "duration": 0.062861,
     "end_time": "2021-11-30T00:09:54.363516",
     "exception": false,
     "start_time": "2021-11-30T00:09:54.300655",
     "status": "completed"
    },
    "tags": []
   },
   "outputs": [
    {
     "name": "stdout",
     "output_type": "stream",
     "text": [
      "Total Reviews: 5000\n",
      "Total Columns: 4\n"
     ]
    }
   ],
   "source": [
    "print(\"Total Reviews:\",df.shape[0])\n",
    "print(\"Total Columns:\",df.shape[1])"
   ]
  },
  {
   "cell_type": "code",
   "execution_count": 7,
   "id": "de4c06e1",
   "metadata": {
    "execution": {
     "iopub.execute_input": "2021-11-30T00:09:54.488691Z",
     "iopub.status.busy": "2021-11-30T00:09:54.487928Z",
     "iopub.status.idle": "2021-11-30T00:09:54.494390Z",
     "shell.execute_reply": "2021-11-30T00:09:54.495082Z",
     "shell.execute_reply.started": "2021-11-29T06:42:58.242745Z"
    },
    "papermill": {
     "duration": 0.075306,
     "end_time": "2021-11-30T00:09:54.495380",
     "exception": false,
     "start_time": "2021-11-30T00:09:54.420074",
     "status": "completed"
    },
    "tags": []
   },
   "outputs": [
    {
     "name": "stdout",
     "output_type": "stream",
     "text": [
      "Total number of ratings : 5\n",
      "Total number of users   : 4929\n",
      "Total number of products  : 299\n"
     ]
    }
   ],
   "source": [
    "print(\"Total number of ratings :\",df.rating.nunique())\n",
    "print(\"Total number of users   :\", df.userId.nunique())\n",
    "print(\"Total number of products  :\", df.productId.nunique())"
   ]
  },
  {
   "cell_type": "code",
   "execution_count": 8,
   "id": "cec294c7",
   "metadata": {
    "execution": {
     "iopub.execute_input": "2021-11-30T00:09:54.611311Z",
     "iopub.status.busy": "2021-11-30T00:09:54.610581Z",
     "iopub.status.idle": "2021-11-30T00:09:54.629671Z",
     "shell.execute_reply": "2021-11-30T00:09:54.630741Z",
     "shell.execute_reply.started": "2021-11-29T06:42:58.2636Z"
    },
    "papermill": {
     "duration": 0.078807,
     "end_time": "2021-11-30T00:09:54.631051",
     "exception": false,
     "start_time": "2021-11-30T00:09:54.552244",
     "status": "completed"
    },
    "tags": []
   },
   "outputs": [
    {
     "name": "stdout",
     "output_type": "stream",
     "text": [
      "<class 'pandas.core.frame.DataFrame'>\n",
      "RangeIndex: 5000 entries, 0 to 4999\n",
      "Data columns (total 4 columns):\n",
      " #   Column     Non-Null Count  Dtype  \n",
      "---  ------     --------------  -----  \n",
      " 0   userId     5000 non-null   object \n",
      " 1   productId  5000 non-null   object \n",
      " 2   rating     5000 non-null   float64\n",
      " 3   timestamp  5000 non-null   int64  \n",
      "dtypes: float64(1), int64(1), object(2)\n",
      "memory usage: 156.4+ KB\n"
     ]
    }
   ],
   "source": [
    "df.info()"
   ]
  },
  {
   "cell_type": "code",
   "execution_count": 9,
   "id": "342d72ec",
   "metadata": {
    "execution": {
     "iopub.execute_input": "2021-11-30T00:09:54.749637Z",
     "iopub.status.busy": "2021-11-30T00:09:54.748876Z",
     "iopub.status.idle": "2021-11-30T00:09:54.759053Z",
     "shell.execute_reply": "2021-11-30T00:09:54.758315Z",
     "shell.execute_reply.started": "2021-11-29T06:42:58.287315Z"
    },
    "papermill": {
     "duration": 0.070694,
     "end_time": "2021-11-30T00:09:54.759230",
     "exception": false,
     "start_time": "2021-11-30T00:09:54.688536",
     "status": "completed"
    },
    "tags": []
   },
   "outputs": [
    {
     "data": {
      "text/plain": [
       "userId       0\n",
       "productId    0\n",
       "rating       0\n",
       "timestamp    0\n",
       "dtype: int64"
      ]
     },
     "execution_count": 9,
     "metadata": {},
     "output_type": "execute_result"
    }
   ],
   "source": [
    "# Check missing value\n",
    "df.isnull().sum()"
   ]
  },
  {
   "cell_type": "code",
   "execution_count": 10,
   "id": "581e3568",
   "metadata": {
    "execution": {
     "iopub.execute_input": "2021-11-30T00:09:54.873117Z",
     "iopub.status.busy": "2021-11-30T00:09:54.872330Z",
     "iopub.status.idle": "2021-11-30T00:09:54.883458Z",
     "shell.execute_reply": "2021-11-30T00:09:54.884169Z",
     "shell.execute_reply.started": "2021-11-29T06:42:58.29882Z"
    },
    "papermill": {
     "duration": 0.069679,
     "end_time": "2021-11-30T00:09:54.884381",
     "exception": false,
     "start_time": "2021-11-30T00:09:54.814702",
     "status": "completed"
    },
    "tags": []
   },
   "outputs": [
    {
     "data": {
      "text/plain": [
       "userId       False\n",
       "productId    False\n",
       "rating       False\n",
       "timestamp    False\n",
       "dtype: bool"
      ]
     },
     "execution_count": 10,
     "metadata": {},
     "output_type": "execute_result"
    }
   ],
   "source": [
    "# Check Duplicate data\n",
    "df[df.duplicated()].any()"
   ]
  },
  {
   "cell_type": "code",
   "execution_count": 11,
   "id": "49c2e2e0",
   "metadata": {
    "execution": {
     "iopub.execute_input": "2021-11-30T00:09:55.000465Z",
     "iopub.status.busy": "2021-11-30T00:09:54.999672Z",
     "iopub.status.idle": "2021-11-30T00:09:55.016512Z",
     "shell.execute_reply": "2021-11-30T00:09:55.017227Z",
     "shell.execute_reply.started": "2021-11-29T06:42:58.313584Z"
    },
    "papermill": {
     "duration": 0.076942,
     "end_time": "2021-11-30T00:09:55.017448",
     "exception": false,
     "start_time": "2021-11-30T00:09:54.940506",
     "status": "completed"
    },
    "tags": []
   },
   "outputs": [
    {
     "data": {
      "text/plain": [
       "count    5000.000000\n",
       "mean        3.986600\n",
       "std         1.411814\n",
       "min         1.000000\n",
       "25%         3.000000\n",
       "50%         5.000000\n",
       "75%         5.000000\n",
       "max         5.000000\n",
       "Name: rating, dtype: float64"
      ]
     },
     "execution_count": 11,
     "metadata": {},
     "output_type": "execute_result"
    }
   ],
   "source": [
    "# rating describe summary \n",
    "df.describe()['rating']"
   ]
  },
  {
   "cell_type": "code",
   "execution_count": 12,
   "id": "07453324",
   "metadata": {
    "execution": {
     "iopub.execute_input": "2021-11-30T00:09:55.136820Z",
     "iopub.status.busy": "2021-11-30T00:09:55.135559Z",
     "iopub.status.idle": "2021-11-30T00:09:55.142175Z",
     "shell.execute_reply": "2021-11-30T00:09:55.142786Z",
     "shell.execute_reply.started": "2021-11-29T06:42:58.330715Z"
    },
    "papermill": {
     "duration": 0.068441,
     "end_time": "2021-11-30T00:09:55.143004",
     "exception": false,
     "start_time": "2021-11-30T00:09:55.074563",
     "status": "completed"
    },
    "tags": []
   },
   "outputs": [
    {
     "name": "stdout",
     "output_type": "stream",
     "text": [
      "Unique value of Rating: [5. 1. 3. 2. 4.]\n"
     ]
    }
   ],
   "source": [
    "print(\"Unique value of Rating:\",df.rating.unique())"
   ]
  },
  {
   "cell_type": "code",
   "execution_count": 13,
   "id": "aee239a6",
   "metadata": {
    "execution": {
     "iopub.execute_input": "2021-11-30T00:09:55.259445Z",
     "iopub.status.busy": "2021-11-30T00:09:55.258756Z",
     "iopub.status.idle": "2021-11-30T00:09:55.264676Z",
     "shell.execute_reply": "2021-11-30T00:09:55.265333Z",
     "shell.execute_reply.started": "2021-11-29T06:42:58.336907Z"
    },
    "papermill": {
     "duration": 0.066033,
     "end_time": "2021-11-30T00:09:55.265547",
     "exception": false,
     "start_time": "2021-11-30T00:09:55.199514",
     "status": "completed"
    },
    "tags": []
   },
   "outputs": [
    {
     "name": "stdout",
     "output_type": "stream",
     "text": [
      "Minimum rating is: 1\n",
      "Maximum rating is: 5\n"
     ]
    }
   ],
   "source": [
    "# Find the minimum and maximum ratings\n",
    "print('Minimum rating is: %d' %(df.rating.min()))\n",
    "print('Maximum rating is: %d' %(df.rating.max()))"
   ]
  },
  {
   "cell_type": "markdown",
   "id": "64c58293",
   "metadata": {
    "papermill": {
     "duration": 0.058838,
     "end_time": "2021-11-30T00:09:55.381307",
     "exception": false,
     "start_time": "2021-11-30T00:09:55.322469",
     "status": "completed"
    },
    "tags": []
   },
   "source": [
    "### 3.1 Data Visualization"
   ]
  },
  {
   "cell_type": "code",
   "execution_count": 14,
   "id": "423e2cc6",
   "metadata": {
    "execution": {
     "iopub.execute_input": "2021-11-30T00:09:55.499960Z",
     "iopub.status.busy": "2021-11-30T00:09:55.499232Z",
     "iopub.status.idle": "2021-11-30T00:09:55.676048Z",
     "shell.execute_reply": "2021-11-30T00:09:55.675335Z",
     "shell.execute_reply.started": "2021-11-29T06:42:58.349536Z"
    },
    "papermill": {
     "duration": 0.237707,
     "end_time": "2021-11-30T00:09:55.676226",
     "exception": false,
     "start_time": "2021-11-30T00:09:55.438519",
     "status": "completed"
    },
    "tags": []
   },
   "outputs": [
    {
     "data": {
      "text/html": [
       "<div>\n",
       "<style scoped>\n",
       "    .dataframe tbody tr th:only-of-type {\n",
       "        vertical-align: middle;\n",
       "    }\n",
       "\n",
       "    .dataframe tbody tr th {\n",
       "        vertical-align: top;\n",
       "    }\n",
       "\n",
       "    .dataframe thead th {\n",
       "        text-align: right;\n",
       "    }\n",
       "</style>\n",
       "<table border=\"1\" class=\"dataframe\">\n",
       "  <thead>\n",
       "    <tr style=\"text-align: right;\">\n",
       "      <th></th>\n",
       "      <th>rating</th>\n",
       "      <th>ratings_count</th>\n",
       "      <th>ratings_average</th>\n",
       "    </tr>\n",
       "    <tr>\n",
       "      <th>productId</th>\n",
       "      <th></th>\n",
       "      <th></th>\n",
       "      <th></th>\n",
       "    </tr>\n",
       "  </thead>\n",
       "  <tbody>\n",
       "    <tr>\n",
       "      <th>0132793040</th>\n",
       "      <td>5.000000</td>\n",
       "      <td>1</td>\n",
       "      <td>5.000000</td>\n",
       "    </tr>\n",
       "    <tr>\n",
       "      <th>0321732944</th>\n",
       "      <td>5.000000</td>\n",
       "      <td>1</td>\n",
       "      <td>5.000000</td>\n",
       "    </tr>\n",
       "    <tr>\n",
       "      <th>0439886341</th>\n",
       "      <td>1.666667</td>\n",
       "      <td>3</td>\n",
       "      <td>1.666667</td>\n",
       "    </tr>\n",
       "    <tr>\n",
       "      <th>0511189877</th>\n",
       "      <td>4.500000</td>\n",
       "      <td>6</td>\n",
       "      <td>4.500000</td>\n",
       "    </tr>\n",
       "    <tr>\n",
       "      <th>0528881469</th>\n",
       "      <td>2.851852</td>\n",
       "      <td>27</td>\n",
       "      <td>2.851852</td>\n",
       "    </tr>\n",
       "    <tr>\n",
       "      <th>0558835155</th>\n",
       "      <td>3.000000</td>\n",
       "      <td>1</td>\n",
       "      <td>3.000000</td>\n",
       "    </tr>\n",
       "    <tr>\n",
       "      <th>059400232X</th>\n",
       "      <td>5.000000</td>\n",
       "      <td>3</td>\n",
       "      <td>5.000000</td>\n",
       "    </tr>\n",
       "    <tr>\n",
       "      <th>0594012015</th>\n",
       "      <td>2.000000</td>\n",
       "      <td>8</td>\n",
       "      <td>2.000000</td>\n",
       "    </tr>\n",
       "    <tr>\n",
       "      <th>0594017343</th>\n",
       "      <td>1.000000</td>\n",
       "      <td>1</td>\n",
       "      <td>1.000000</td>\n",
       "    </tr>\n",
       "    <tr>\n",
       "      <th>0594017580</th>\n",
       "      <td>3.000000</td>\n",
       "      <td>1</td>\n",
       "      <td>3.000000</td>\n",
       "    </tr>\n",
       "  </tbody>\n",
       "</table>\n",
       "</div>"
      ],
      "text/plain": [
       "              rating  ratings_count  ratings_average\n",
       "productId                                           \n",
       "0132793040  5.000000              1         5.000000\n",
       "0321732944  5.000000              1         5.000000\n",
       "0439886341  1.666667              3         1.666667\n",
       "0511189877  4.500000              6         4.500000\n",
       "0528881469  2.851852             27         2.851852\n",
       "0558835155  3.000000              1         3.000000\n",
       "059400232X  5.000000              3         5.000000\n",
       "0594012015  2.000000              8         2.000000\n",
       "0594017343  1.000000              1         1.000000\n",
       "0594017580  3.000000              1         3.000000"
      ]
     },
     "execution_count": 14,
     "metadata": {},
     "output_type": "execute_result"
    }
   ],
   "source": [
    "# Average rating of products\n",
    "ratings = pd.DataFrame(df.groupby('productId')['rating'].mean())\n",
    "ratings['ratings_count'] = pd.DataFrame(df.groupby('productId')['rating'].count())\n",
    "ratings['ratings_average'] = pd.DataFrame(df.groupby('productId')['rating'].mean())\n",
    "ratings.head(10)"
   ]
  },
  {
   "cell_type": "code",
   "execution_count": 15,
   "id": "1f0097af",
   "metadata": {
    "execution": {
     "iopub.execute_input": "2021-11-30T00:09:55.799033Z",
     "iopub.status.busy": "2021-11-30T00:09:55.798191Z",
     "iopub.status.idle": "2021-11-30T00:09:56.398411Z",
     "shell.execute_reply": "2021-11-30T00:09:56.399009Z",
     "shell.execute_reply.started": "2021-11-29T06:42:58.373493Z"
    },
    "papermill": {
     "duration": 0.665359,
     "end_time": "2021-11-30T00:09:56.399220",
     "exception": false,
     "start_time": "2021-11-30T00:09:55.733861",
     "status": "completed"
    },
    "tags": []
   },
   "outputs": [
    {
     "data": {
      "text/plain": [
       "<AxesSubplot:>"
      ]
     },
     "execution_count": 15,
     "metadata": {},
     "output_type": "execute_result"
    },
    {
     "data": {
      "image/png": "[encoded data removed]",
      "text/plain": [
       "<Figure size 720x288 with 1 Axes>"
      ]
     },
     "metadata": {
      "needs_background": "light"
     },
     "output_type": "display_data"
    }
   ],
   "source": [
    "plt.figure(figsize=(10,4))\n",
    "ratings['rating'].hist(bins=70)"
   ]
  },
  {
   "cell_type": "code",
   "execution_count": 16,
   "id": "76855a6d",
   "metadata": {
    "execution": {
     "iopub.execute_input": "2021-11-30T00:09:56.525965Z",
     "iopub.status.busy": "2021-11-30T00:09:56.522462Z",
     "iopub.status.idle": "2021-11-30T00:09:59.705872Z",
     "shell.execute_reply": "2021-11-30T00:09:59.706592Z",
     "shell.execute_reply.started": "2021-11-29T06:42:58.890117Z"
    },
    "papermill": {
     "duration": 3.24878,
     "end_time": "2021-11-30T00:09:59.706831",
     "exception": false,
     "start_time": "2021-11-30T00:09:56.458051",
     "status": "completed"
    },
    "tags": []
   },
   "outputs": [
    {
     "data": {
      "text/plain": [
       "<seaborn.axisgrid.JointGrid at 0x7fcdfe0909d0>"
      ]
     },
     "execution_count": 16,
     "metadata": {},
     "output_type": "execute_result"
    },
    {
     "data": {
      "image/png": "[encoded data removed]",
      "text/plain": [
       "<Figure size 432x432 with 3 Axes>"
      ]
     },
     "metadata": {
      "needs_background": "light"
     },
     "output_type": "display_data"
    }
   ],
   "source": [
    "sns.jointplot(x='rating',y='ratings_count',data=ratings,alpha=0.5)"
   ]
  },
  {
   "cell_type": "code",
   "execution_count": 17,
   "id": "0037d092",
   "metadata": {
    "execution": {
     "iopub.execute_input": "2021-11-30T00:09:59.834767Z",
     "iopub.status.busy": "2021-11-30T00:09:59.833627Z",
     "iopub.status.idle": "2021-11-30T00:10:00.750063Z",
     "shell.execute_reply": "2021-11-30T00:10:00.750641Z",
     "shell.execute_reply.started": "2021-11-29T06:43:01.055897Z"
    },
    "papermill": {
     "duration": 0.981354,
     "end_time": "2021-11-30T00:10:00.750874",
     "exception": false,
     "start_time": "2021-11-30T00:09:59.769520",
     "status": "completed"
    },
    "tags": []
   },
   "outputs": [
    {
     "data": {
      "text/plain": [
       "<AxesSubplot:xlabel='productId'>"
      ]
     },
     "execution_count": 17,
     "metadata": {},
     "output_type": "execute_result"
    },
    {
     "data": {
      "image/png": "[encoded data removed]",
      "text/plain": [
       "<Figure size 864x288 with 1 Axes>"
      ]
     },
     "metadata": {
      "needs_background": "light"
     },
     "output_type": "display_data"
    }
   ],
   "source": [
    "# Most top 30 products\n",
    "popular_products = pd.DataFrame(df.groupby('productId')['rating'].count())\n",
    "most_popular = popular_products.sort_values('rating', ascending=False)\n",
    "most_popular.head(30).plot(kind = \"bar\",figsize=(12, 4))"
   ]
  },
  {
   "cell_type": "markdown",
   "id": "1892aa03",
   "metadata": {
    "papermill": {
     "duration": 0.063156,
     "end_time": "2021-11-30T00:10:00.876478",
     "exception": false,
     "start_time": "2021-11-30T00:10:00.813322",
     "status": "completed"
    },
    "tags": []
   },
   "source": [
    "<a id=\"recommender\"></a>\n",
    "## 4. Type of Recommender System"
   ]
  },
  {
   "cell_type": "markdown",
   "id": "86cb7784",
   "metadata": {
    "papermill": {
     "duration": 0.063614,
     "end_time": "2021-11-30T00:10:01.002883",
     "exception": false,
     "start_time": "2021-11-30T00:10:00.939269",
     "status": "completed"
    },
    "tags": []
   },
   "source": [
    "### Methods Used\n",
    "<div align='left'><font size=\"3\" color=\"#000000\"> Four types of recommender systems:\n",
    "</font></div>\n",
    "\n",
    "<div align='left'><font size=\"3\" color=\"#000000\"> \n",
    "<ol>\n",
    "  <li>Popular-Based</li>\n",
    "  <li>Content-Based</li>\n",
    "  <li>Collaborative Filtering</li>\n",
    "  <li>Hybrid</li>\n",
    "</ol>\n",
    "</font></div>"
   ]
  },
  {
   "cell_type": "markdown",
   "id": "eb42d57e",
   "metadata": {
    "papermill": {
     "duration": 0.060722,
     "end_time": "2021-11-30T00:10:01.127107",
     "exception": false,
     "start_time": "2021-11-30T00:10:01.066385",
     "status": "completed"
    },
    "tags": []
   },
   "source": [
    "> <center><img src=\"https://miro.medium.com/max/700/1*AaE5pUCOkMS6Dv6j96trsA.png\" width=\"500px\"></center>"
   ]
  },
  {
   "cell_type": "markdown",
   "id": "a0d01995",
   "metadata": {
    "papermill": {
     "duration": 0.062427,
     "end_time": "2021-11-30T00:10:01.250401",
     "exception": false,
     "start_time": "2021-11-30T00:10:01.187974",
     "status": "completed"
    },
    "tags": []
   },
   "source": [
    "<a id=\"popular\"></a>\n",
    "### 1. Popular-Based"
   ]
  },
  {
   "cell_type": "markdown",
   "id": "0ee424b7",
   "metadata": {
    "papermill": {
     "duration": 0.0624,
     "end_time": "2021-11-30T00:10:01.376304",
     "exception": false,
     "start_time": "2021-11-30T00:10:01.313904",
     "status": "completed"
    },
    "tags": []
   },
   "source": [
    "<div align='left'><font size=\"3\" color=\"#000000\"> This is the baseline performance and the most intuitive recommendation that we can find anywhere. Examples are the IMDB top-rated movies, Top 10 in your country today in Netflix, etc. These recommendations can be found when you are a new joiner and the provider doesn't have enough information about you. So it would be a safe bet to recommend to you what others like.\n",
    "</font></div>\n",
    "\n",
    "<div align='left'><font size=\"3\" color=\"#000000\">❗ Limitation: All users get the same recommendation set. It's not personalized.\n",
    "</font></div>\n",
    "\n",
    "<div align='left'><font size=\"3\" color=\"#000000\">Example illustration for movie recommendation below:\n",
    "</font></div>\n",
    "\n",
    "> <center><img src=\"https://miro.medium.com/max/646/1*7v-Ha1BOzh2r2y_96WceIg.png\" width=\"500px\"></center>\n"
   ]
  },
  {
   "cell_type": "markdown",
   "id": "27646d1b",
   "metadata": {
    "papermill": {
     "duration": 0.06262,
     "end_time": "2021-11-30T00:10:01.500969",
     "exception": false,
     "start_time": "2021-11-30T00:10:01.438349",
     "status": "completed"
    },
    "tags": []
   },
   "source": [
    "#### 1.1 Develop Recommendation System using Popular-Based method"
   ]
  },
  {
   "cell_type": "markdown",
   "id": "595a2c89",
   "metadata": {
    "papermill": {
     "duration": 0.061267,
     "end_time": "2021-11-30T00:10:01.626517",
     "exception": false,
     "start_time": "2021-11-30T00:10:01.565250",
     "status": "completed"
    },
    "tags": []
   },
   "source": [
    "<div align='left'><font size=\"3\" color=\"#000000\"> Weighted rating systems used to score the rating of each movie. Here is the formula of the weighted rating score.\n",
    "</font></div>\n",
    "\n",
    "<div align='center'><font size=\"4\" color=\"#000000\"> WR = (v ÷ (v+m)) × R + (m ÷ (v+m)) × C\n",
    "</font></div>\n",
    "\n",
    "<div align='left'><font size=\"3\" color=\"#000000\"> \n",
    "<ul>\n",
    "  <li>R is the average rating for the item.</li>\n",
    "  <li>v is the number of votes for the item.</li>\n",
    "  <li>m is the minimum votes required to be listed in the popular items(defined by > percentile 80 of total votes)</li>\n",
    "  <li>C is the average rating across the whole dataset.</li>\n",
    "</ul>\n",
    "</font></div>"
   ]
  },
  {
   "cell_type": "code",
   "execution_count": 18,
   "id": "73dc725a",
   "metadata": {
    "execution": {
     "iopub.execute_input": "2021-11-30T00:10:01.764807Z",
     "iopub.status.busy": "2021-11-30T00:10:01.764017Z",
     "iopub.status.idle": "2021-11-30T00:10:01.768880Z",
     "shell.execute_reply": "2021-11-30T00:10:01.768218Z",
     "shell.execute_reply.started": "2021-11-29T06:43:01.56304Z"
    },
    "papermill": {
     "duration": 0.079697,
     "end_time": "2021-11-30T00:10:01.769057",
     "exception": false,
     "start_time": "2021-11-30T00:10:01.689360",
     "status": "completed"
    },
    "tags": []
   },
   "outputs": [
    {
     "name": "stdout",
     "output_type": "stream",
     "text": [
      "Average rating of product across the whole dataset is 3.5953177257525084\n"
     ]
    }
   ],
   "source": [
    "vote_counts = ratings[ratings['ratings_count'].notnull()]['ratings_count'].astype('int')\n",
    "vote_averages = ratings[ratings['ratings_average'].notnull()]['ratings_average'].astype('int')\n",
    "C = vote_averages.mean()\n",
    "print(\"Average rating of product across the whole dataset is\",C)"
   ]
  },
  {
   "cell_type": "code",
   "execution_count": 19,
   "id": "d8824d2b",
   "metadata": {
    "execution": {
     "iopub.execute_input": "2021-11-30T00:10:01.901603Z",
     "iopub.status.busy": "2021-11-30T00:10:01.900877Z",
     "iopub.status.idle": "2021-11-30T00:10:01.908520Z",
     "shell.execute_reply": "2021-11-30T00:10:01.909688Z",
     "shell.execute_reply.started": "2021-11-29T06:43:01.576333Z"
    },
    "papermill": {
     "duration": 0.076465,
     "end_time": "2021-11-30T00:10:01.910114",
     "exception": false,
     "start_time": "2021-11-30T00:10:01.833649",
     "status": "completed"
    },
    "tags": []
   },
   "outputs": [
    {
     "name": "stdout",
     "output_type": "stream",
     "text": [
      "Minimum votes required to be listed in the chart is 62.19999999999925\n"
     ]
    }
   ],
   "source": [
    "m = vote_counts.quantile(0.95)\n",
    "print(\"Minimum votes required to be listed in the chart is\",m)"
   ]
  },
  {
   "cell_type": "code",
   "execution_count": 20,
   "id": "352b97a9",
   "metadata": {
    "execution": {
     "iopub.execute_input": "2021-11-30T00:10:02.076576Z",
     "iopub.status.busy": "2021-11-30T00:10:02.075825Z",
     "iopub.status.idle": "2021-11-30T00:10:02.087614Z",
     "shell.execute_reply": "2021-11-30T00:10:02.088357Z",
     "shell.execute_reply.started": "2021-11-29T06:43:01.584451Z"
    },
    "papermill": {
     "duration": 0.104248,
     "end_time": "2021-11-30T00:10:02.088563",
     "exception": false,
     "start_time": "2021-11-30T00:10:01.984315",
     "status": "completed"
    },
    "tags": []
   },
   "outputs": [
    {
     "data": {
      "text/html": [
       "<div>\n",
       "<style scoped>\n",
       "    .dataframe tbody tr th:only-of-type {\n",
       "        vertical-align: middle;\n",
       "    }\n",
       "\n",
       "    .dataframe tbody tr th {\n",
       "        vertical-align: top;\n",
       "    }\n",
       "\n",
       "    .dataframe thead th {\n",
       "        text-align: right;\n",
       "    }\n",
       "</style>\n",
       "<table border=\"1\" class=\"dataframe\">\n",
       "  <thead>\n",
       "    <tr style=\"text-align: right;\">\n",
       "      <th></th>\n",
       "      <th>rating</th>\n",
       "      <th>ratings_count</th>\n",
       "      <th>ratings_average</th>\n",
       "    </tr>\n",
       "    <tr>\n",
       "      <th>productId</th>\n",
       "      <th></th>\n",
       "      <th></th>\n",
       "      <th></th>\n",
       "    </tr>\n",
       "  </thead>\n",
       "  <tbody>\n",
       "    <tr>\n",
       "      <th>0132793040</th>\n",
       "      <td>5.000000</td>\n",
       "      <td>1</td>\n",
       "      <td>5.000000</td>\n",
       "    </tr>\n",
       "    <tr>\n",
       "      <th>0321732944</th>\n",
       "      <td>5.000000</td>\n",
       "      <td>1</td>\n",
       "      <td>5.000000</td>\n",
       "    </tr>\n",
       "    <tr>\n",
       "      <th>0439886341</th>\n",
       "      <td>1.666667</td>\n",
       "      <td>3</td>\n",
       "      <td>1.666667</td>\n",
       "    </tr>\n",
       "    <tr>\n",
       "      <th>0511189877</th>\n",
       "      <td>4.500000</td>\n",
       "      <td>6</td>\n",
       "      <td>4.500000</td>\n",
       "    </tr>\n",
       "    <tr>\n",
       "      <th>0528881469</th>\n",
       "      <td>2.851852</td>\n",
       "      <td>27</td>\n",
       "      <td>2.851852</td>\n",
       "    </tr>\n",
       "  </tbody>\n",
       "</table>\n",
       "</div>"
      ],
      "text/plain": [
       "              rating  ratings_count  ratings_average\n",
       "productId                                           \n",
       "0132793040  5.000000              1         5.000000\n",
       "0321732944  5.000000              1         5.000000\n",
       "0439886341  1.666667              3         1.666667\n",
       "0511189877  4.500000              6         4.500000\n",
       "0528881469  2.851852             27         2.851852"
      ]
     },
     "execution_count": 20,
     "metadata": {},
     "output_type": "execute_result"
    }
   ],
   "source": [
    "ratings.head()"
   ]
  },
  {
   "cell_type": "code",
   "execution_count": 21,
   "id": "9bc904f3",
   "metadata": {
    "execution": {
     "iopub.execute_input": "2021-11-30T00:10:02.222542Z",
     "iopub.status.busy": "2021-11-30T00:10:02.221795Z",
     "iopub.status.idle": "2021-11-30T00:10:02.229686Z",
     "shell.execute_reply": "2021-11-30T00:10:02.230346Z",
     "shell.execute_reply.started": "2021-11-29T06:43:01.604086Z"
    },
    "papermill": {
     "duration": 0.07696,
     "end_time": "2021-11-30T00:10:02.230572",
     "exception": false,
     "start_time": "2021-11-30T00:10:02.153612",
     "status": "completed"
    },
    "tags": []
   },
   "outputs": [],
   "source": [
    "qualified = ratings[(ratings['ratings_count'] >= m) & (ratings['ratings_count'].notnull()) & (ratings['ratings_average'].notnull())][['ratings_count', 'ratings_average']]"
   ]
  },
  {
   "cell_type": "code",
   "execution_count": 22,
   "id": "33fde1ef",
   "metadata": {
    "execution": {
     "iopub.execute_input": "2021-11-30T00:10:02.367492Z",
     "iopub.status.busy": "2021-11-30T00:10:02.366774Z",
     "iopub.status.idle": "2021-11-30T00:10:02.379550Z",
     "shell.execute_reply": "2021-11-30T00:10:02.380197Z",
     "shell.execute_reply.started": "2021-11-29T06:43:01.613402Z"
    },
    "papermill": {
     "duration": 0.083671,
     "end_time": "2021-11-30T00:10:02.380419",
     "exception": false,
     "start_time": "2021-11-30T00:10:02.296748",
     "status": "completed"
    },
    "tags": []
   },
   "outputs": [
    {
     "data": {
      "text/html": [
       "<div>\n",
       "<style scoped>\n",
       "    .dataframe tbody tr th:only-of-type {\n",
       "        vertical-align: middle;\n",
       "    }\n",
       "\n",
       "    .dataframe tbody tr th {\n",
       "        vertical-align: top;\n",
       "    }\n",
       "\n",
       "    .dataframe thead th {\n",
       "        text-align: right;\n",
       "    }\n",
       "</style>\n",
       "<table border=\"1\" class=\"dataframe\">\n",
       "  <thead>\n",
       "    <tr style=\"text-align: right;\">\n",
       "      <th></th>\n",
       "      <th>ratings_count</th>\n",
       "      <th>ratings_average</th>\n",
       "    </tr>\n",
       "    <tr>\n",
       "      <th>productId</th>\n",
       "      <th></th>\n",
       "      <th></th>\n",
       "    </tr>\n",
       "  </thead>\n",
       "  <tbody>\n",
       "    <tr>\n",
       "      <th>0972683275</th>\n",
       "      <td>1051</td>\n",
       "      <td>4</td>\n",
       "    </tr>\n",
       "    <tr>\n",
       "      <th>1400501466</th>\n",
       "      <td>250</td>\n",
       "      <td>3</td>\n",
       "    </tr>\n",
       "    <tr>\n",
       "      <th>1400532620</th>\n",
       "      <td>171</td>\n",
       "      <td>3</td>\n",
       "    </tr>\n",
       "    <tr>\n",
       "      <th>1400501776</th>\n",
       "      <td>139</td>\n",
       "      <td>3</td>\n",
       "    </tr>\n",
       "    <tr>\n",
       "      <th>1400501520</th>\n",
       "      <td>82</td>\n",
       "      <td>4</td>\n",
       "    </tr>\n",
       "  </tbody>\n",
       "</table>\n",
       "</div>"
      ],
      "text/plain": [
       "            ratings_count  ratings_average\n",
       "productId                                 \n",
       "0972683275           1051                4\n",
       "1400501466            250                3\n",
       "1400532620            171                3\n",
       "1400501776            139                3\n",
       "1400501520             82                4"
      ]
     },
     "execution_count": 22,
     "metadata": {},
     "output_type": "execute_result"
    }
   ],
   "source": [
    "qualified['ratings_count'] = qualified['ratings_count'].astype('int')\n",
    "qualified['ratings_average'] = qualified['ratings_average'].astype('int')\n",
    "qualified.head().sort_values(by='ratings_count', ascending=False)"
   ]
  },
  {
   "cell_type": "code",
   "execution_count": 23,
   "id": "d2fef2b6",
   "metadata": {
    "execution": {
     "iopub.execute_input": "2021-11-30T00:10:02.517266Z",
     "iopub.status.busy": "2021-11-30T00:10:02.516520Z",
     "iopub.status.idle": "2021-11-30T00:10:02.522121Z",
     "shell.execute_reply": "2021-11-30T00:10:02.522734Z",
     "shell.execute_reply.started": "2021-11-29T06:43:01.631304Z"
    },
    "papermill": {
     "duration": 0.075835,
     "end_time": "2021-11-30T00:10:02.522973",
     "exception": false,
     "start_time": "2021-11-30T00:10:02.447138",
     "status": "completed"
    },
    "tags": []
   },
   "outputs": [
    {
     "data": {
      "text/plain": [
       "(15, 2)"
      ]
     },
     "execution_count": 23,
     "metadata": {},
     "output_type": "execute_result"
    }
   ],
   "source": [
    "qualified.shape"
   ]
  },
  {
   "cell_type": "code",
   "execution_count": 24,
   "id": "6eec322d",
   "metadata": {
    "execution": {
     "iopub.execute_input": "2021-11-30T00:10:02.660671Z",
     "iopub.status.busy": "2021-11-30T00:10:02.659958Z",
     "iopub.status.idle": "2021-11-30T00:10:02.665462Z",
     "shell.execute_reply": "2021-11-30T00:10:02.666075Z",
     "shell.execute_reply.started": "2021-11-29T06:43:01.638563Z"
    },
    "papermill": {
     "duration": 0.07631,
     "end_time": "2021-11-30T00:10:02.666296",
     "exception": false,
     "start_time": "2021-11-30T00:10:02.589986",
     "status": "completed"
    },
    "tags": []
   },
   "outputs": [],
   "source": [
    "def weighted_rating(x):\n",
    "    v = x['ratings_count']\n",
    "    R = x['ratings_average']\n",
    "    return (v/(v+m) * R) + (m/(m+v) * C)"
   ]
  },
  {
   "cell_type": "code",
   "execution_count": 25,
   "id": "5ee82b58",
   "metadata": {
    "execution": {
     "iopub.execute_input": "2021-11-30T00:10:02.803497Z",
     "iopub.status.busy": "2021-11-30T00:10:02.802792Z",
     "iopub.status.idle": "2021-11-30T00:10:02.809694Z",
     "shell.execute_reply": "2021-11-30T00:10:02.810268Z",
     "shell.execute_reply.started": "2021-11-29T06:43:01.651846Z"
    },
    "papermill": {
     "duration": 0.076608,
     "end_time": "2021-11-30T00:10:02.810497",
     "exception": false,
     "start_time": "2021-11-30T00:10:02.733889",
     "status": "completed"
    },
    "tags": []
   },
   "outputs": [],
   "source": [
    "qualified['wr'] = qualified.apply(weighted_rating, axis=1)"
   ]
  },
  {
   "cell_type": "code",
   "execution_count": 26,
   "id": "937cbcb6",
   "metadata": {
    "execution": {
     "iopub.execute_input": "2021-11-30T00:10:02.947567Z",
     "iopub.status.busy": "2021-11-30T00:10:02.946871Z",
     "iopub.status.idle": "2021-11-30T00:10:02.952081Z",
     "shell.execute_reply": "2021-11-30T00:10:02.952613Z",
     "shell.execute_reply.started": "2021-11-29T06:43:01.664425Z"
    },
    "papermill": {
     "duration": 0.075108,
     "end_time": "2021-11-30T00:10:02.952863",
     "exception": false,
     "start_time": "2021-11-30T00:10:02.877755",
     "status": "completed"
    },
    "tags": []
   },
   "outputs": [],
   "source": [
    "qualified = qualified.sort_values('wr', ascending=False).head(20)"
   ]
  },
  {
   "cell_type": "markdown",
   "id": "fb4b7591",
   "metadata": {
    "papermill": {
     "duration": 0.066116,
     "end_time": "2021-11-30T00:10:03.086586",
     "exception": false,
     "start_time": "2021-11-30T00:10:03.020470",
     "status": "completed"
    },
    "tags": []
   },
   "source": [
    "#### 1.2 Top 10 Products for recommendation using Popular-based method"
   ]
  },
  {
   "cell_type": "code",
   "execution_count": 27,
   "id": "4cda193f",
   "metadata": {
    "execution": {
     "iopub.execute_input": "2021-11-30T00:10:03.230738Z",
     "iopub.status.busy": "2021-11-30T00:10:03.229571Z",
     "iopub.status.idle": "2021-11-30T00:10:03.233961Z",
     "shell.execute_reply": "2021-11-30T00:10:03.234554Z",
     "shell.execute_reply.started": "2021-11-29T06:43:01.804932Z"
    },
    "papermill": {
     "duration": 0.082352,
     "end_time": "2021-11-30T00:10:03.234795",
     "exception": false,
     "start_time": "2021-11-30T00:10:03.152443",
     "status": "completed"
    },
    "tags": []
   },
   "outputs": [
    {
     "data": {
      "text/html": [
       "<div>\n",
       "<style scoped>\n",
       "    .dataframe tbody tr th:only-of-type {\n",
       "        vertical-align: middle;\n",
       "    }\n",
       "\n",
       "    .dataframe tbody tr th {\n",
       "        vertical-align: top;\n",
       "    }\n",
       "\n",
       "    .dataframe thead th {\n",
       "        text-align: right;\n",
       "    }\n",
       "</style>\n",
       "<table border=\"1\" class=\"dataframe\">\n",
       "  <thead>\n",
       "    <tr style=\"text-align: right;\">\n",
       "      <th></th>\n",
       "      <th>ratings_count</th>\n",
       "      <th>ratings_average</th>\n",
       "      <th>wr</th>\n",
       "    </tr>\n",
       "    <tr>\n",
       "      <th>productId</th>\n",
       "      <th></th>\n",
       "      <th></th>\n",
       "      <th></th>\n",
       "    </tr>\n",
       "  </thead>\n",
       "  <tbody>\n",
       "    <tr>\n",
       "      <th>0972683275</th>\n",
       "      <td>1051</td>\n",
       "      <td>4</td>\n",
       "      <td>3.977388</td>\n",
       "    </tr>\n",
       "    <tr>\n",
       "      <th>1400698987</th>\n",
       "      <td>138</td>\n",
       "      <td>4</td>\n",
       "      <td>3.874270</td>\n",
       "    </tr>\n",
       "    <tr>\n",
       "      <th>7214047977</th>\n",
       "      <td>107</td>\n",
       "      <td>4</td>\n",
       "      <td>3.851234</td>\n",
       "    </tr>\n",
       "    <tr>\n",
       "      <th>1400501520</th>\n",
       "      <td>82</td>\n",
       "      <td>4</td>\n",
       "      <td>3.825442</td>\n",
       "    </tr>\n",
       "    <tr>\n",
       "      <th>6301977173</th>\n",
       "      <td>83</td>\n",
       "      <td>3</td>\n",
       "      <td>3.255019</td>\n",
       "    </tr>\n",
       "    <tr>\n",
       "      <th>1400532736</th>\n",
       "      <td>84</td>\n",
       "      <td>3</td>\n",
       "      <td>3.253275</td>\n",
       "    </tr>\n",
       "    <tr>\n",
       "      <th>8862935293</th>\n",
       "      <td>95</td>\n",
       "      <td>3</td>\n",
       "      <td>3.235552</td>\n",
       "    </tr>\n",
       "    <tr>\n",
       "      <th>9575871979</th>\n",
       "      <td>98</td>\n",
       "      <td>3</td>\n",
       "      <td>3.231141</td>\n",
       "    </tr>\n",
       "    <tr>\n",
       "      <th>1400501776</th>\n",
       "      <td>139</td>\n",
       "      <td>3</td>\n",
       "      <td>3.184040</td>\n",
       "    </tr>\n",
       "    <tr>\n",
       "      <th>1400532620</th>\n",
       "      <td>171</td>\n",
       "      <td>3</td>\n",
       "      <td>3.158785</td>\n",
       "    </tr>\n",
       "  </tbody>\n",
       "</table>\n",
       "</div>"
      ],
      "text/plain": [
       "            ratings_count  ratings_average        wr\n",
       "productId                                           \n",
       "0972683275           1051                4  3.977388\n",
       "1400698987            138                4  3.874270\n",
       "7214047977            107                4  3.851234\n",
       "1400501520             82                4  3.825442\n",
       "6301977173             83                3  3.255019\n",
       "1400532736             84                3  3.253275\n",
       "8862935293             95                3  3.235552\n",
       "9575871979             98                3  3.231141\n",
       "1400501776            139                3  3.184040\n",
       "1400532620            171                3  3.158785"
      ]
     },
     "execution_count": 27,
     "metadata": {},
     "output_type": "execute_result"
    }
   ],
   "source": [
    "qualified.head(10)"
   ]
  },
  {
   "cell_type": "code",
   "execution_count": 28,
   "id": "cb420c9e",
   "metadata": {
    "execution": {
     "iopub.execute_input": "2021-11-30T00:10:03.377596Z",
     "iopub.status.busy": "2021-11-30T00:10:03.376437Z",
     "iopub.status.idle": "2021-11-30T00:10:03.801948Z",
     "shell.execute_reply": "2021-11-30T00:10:03.801219Z",
     "shell.execute_reply.started": "2021-11-29T06:43:01.824438Z"
    },
    "papermill": {
     "duration": 0.501606,
     "end_time": "2021-11-30T00:10:03.802112",
     "exception": false,
     "start_time": "2021-11-30T00:10:03.300506",
     "status": "completed"
    },
    "tags": []
   },
   "outputs": [
    {
     "data": {
      "text/plain": [
       "Text(0, 0.5, 'Count')"
      ]
     },
     "execution_count": 28,
     "metadata": {},
     "output_type": "execute_result"
    },
    {
     "data": {
      "image/png": "[encoded data removed]",
      "text/plain": [
       "<Figure size 864x288 with 1 Axes>"
      ]
     },
     "metadata": {
      "needs_background": "light"
     },
     "output_type": "display_data"
    }
   ],
   "source": [
    "# Add color\n",
    "from matplotlib import cm\n",
    "color = cm.inferno_r(np.linspace(.4, .8, 30))\n",
    "\n",
    "rating_plot_count = qualified['ratings_count'].plot.bar(figsize=(12, 4),color=color)\n",
    "rating_plot_count.set_title(\"Rating Count Bar-Plot\")\n",
    "rating_plot_count.set_xlabel(\"productId\")\n",
    "rating_plot_count.set_ylabel(\"Count\")"
   ]
  },
  {
   "cell_type": "code",
   "execution_count": 29,
   "id": "39f8a984",
   "metadata": {
    "execution": {
     "iopub.execute_input": "2021-11-30T00:10:03.938599Z",
     "iopub.status.busy": "2021-11-30T00:10:03.937471Z",
     "iopub.status.idle": "2021-11-30T00:10:04.350076Z",
     "shell.execute_reply": "2021-11-30T00:10:04.350649Z",
     "shell.execute_reply.started": "2021-11-29T06:43:02.161177Z"
    },
    "papermill": {
     "duration": 0.484204,
     "end_time": "2021-11-30T00:10:04.350898",
     "exception": false,
     "start_time": "2021-11-30T00:10:03.866694",
     "status": "completed"
    },
    "tags": []
   },
   "outputs": [
    {
     "data": {
      "text/plain": [
       "Text(0, 0.5, 'rating')"
      ]
     },
     "execution_count": 29,
     "metadata": {},
     "output_type": "execute_result"
    },
    {
     "data": {
      "image/png": "[encoded data removed]",
      "text/plain": [
       "<Figure size 864x288 with 1 Axes>"
      ]
     },
     "metadata": {
      "needs_background": "light"
     },
     "output_type": "display_data"
    }
   ],
   "source": [
    "rating_plot_avg = qualified['ratings_average'].plot.bar(figsize=(12, 4),color=color)\n",
    "rating_plot_avg.set_title(\"Rating Average Bar-Plot\")\n",
    "rating_plot_avg.set_xlabel(\"productId\")\n",
    "rating_plot_avg.set_ylabel(\"rating\")"
   ]
  },
  {
   "cell_type": "code",
   "execution_count": 30,
   "id": "f66d6dd1",
   "metadata": {
    "execution": {
     "iopub.execute_input": "2021-11-30T00:10:04.527666Z",
     "iopub.status.busy": "2021-11-30T00:10:04.526380Z",
     "iopub.status.idle": "2021-11-30T00:10:04.905990Z",
     "shell.execute_reply": "2021-11-30T00:10:04.906626Z",
     "shell.execute_reply.started": "2021-11-29T06:43:02.506695Z"
    },
    "papermill": {
     "duration": 0.488286,
     "end_time": "2021-11-30T00:10:04.906880",
     "exception": false,
     "start_time": "2021-11-30T00:10:04.418594",
     "status": "completed"
    },
    "tags": []
   },
   "outputs": [
    {
     "data": {
      "text/plain": [
       "Text(0, 0.5, 'rating')"
      ]
     },
     "execution_count": 30,
     "metadata": {},
     "output_type": "execute_result"
    },
    {
     "data": {
      "image/png": "[encoded data removed]",
      "text/plain": [
       "<Figure size 864x288 with 1 Axes>"
      ]
     },
     "metadata": {
      "needs_background": "light"
     },
     "output_type": "display_data"
    }
   ],
   "source": [
    "wr_plot = qualified['wr'].plot.bar(figsize=(12, 4),color=color)\n",
    "wr_plot.set_title(\"Weight Rating Bar-Plot\")\n",
    "wr_plot.set_xlabel(\"productId\")\n",
    "wr_plot.set_ylabel(\"rating\")"
   ]
  },
  {
   "cell_type": "markdown",
   "id": "0a61e26a",
   "metadata": {
    "papermill": {
     "duration": 0.070234,
     "end_time": "2021-11-30T00:10:05.048267",
     "exception": false,
     "start_time": "2021-11-30T00:10:04.978033",
     "status": "completed"
    },
    "tags": []
   },
   "source": [
    "<a id=\"content\"></a>\n",
    "### 2. Content-Based"
   ]
  },
  {
   "cell_type": "markdown",
   "id": "fefe1eb1",
   "metadata": {
    "papermill": {
     "duration": 0.066914,
     "end_time": "2021-11-30T00:10:05.182668",
     "exception": false,
     "start_time": "2021-11-30T00:10:05.115754",
     "status": "completed"
    },
    "tags": []
   },
   "source": [
    "<div align='left'><font size=\"3\" color=\"#000000\"> This method will be similar to the popular-based or content-based recommendation. However, the difference is how to come up with a set of similar items. Here we use the user-item interaction matrix rather than the rating or genres like the methods mentioned above. In general, content-based focuses on the attributes of items and provides you with recommendations based on the similarities between them. We will find similarities between each type of product item and rank the similarity score from highest to lowest and select product sets based on the number of recommendations we want to offer.\n",
    "</font></div>\n",
    "\n",
    "<div align='left'><font size=\"3\" color=\"#000000\">❗ Limitation: The recommendation will be limited to what users liked, watched, interacted with before. It doesn't give users a chance to explore a new area they’ve never been to before. Also, all users who like item X will receive the same recommendation set.\n",
    "</font></div>\n",
    "\n",
    "<div align='left'><font size=\"3\" color=\"#000000\">Example illustration for movie recommendation below:\n",
    "</font></div>"
   ]
  },
  {
   "cell_type": "markdown",
   "id": "8347ec71",
   "metadata": {
    "papermill": {
     "duration": 0.067503,
     "end_time": "2021-11-30T00:10:05.318208",
     "exception": false,
     "start_time": "2021-11-30T00:10:05.250705",
     "status": "completed"
    },
    "tags": []
   },
   "source": [
    "> <center><img src=\"https://miro.medium.com/max/647/1*NvmFrVY5BDI7Fjw6SO9Kbg.png\" width=\"500px\"></center>"
   ]
  },
  {
   "cell_type": "markdown",
   "id": "9ed4f7f1",
   "metadata": {
    "papermill": {
     "duration": 0.070566,
     "end_time": "2021-11-30T00:10:05.458307",
     "exception": false,
     "start_time": "2021-11-30T00:10:05.387741",
     "status": "completed"
    },
    "tags": []
   },
   "source": [
    "<div align='left'><font size=\"3\" color=\"#000000\"> In this particular case, no product type is represented so we can't really implement this method due to the lack of information about the product type.\n",
    "</font></div>"
   ]
  },
  {
   "cell_type": "markdown",
   "id": "2826ce57",
   "metadata": {
    "papermill": {
     "duration": 0.06894,
     "end_time": "2021-11-30T00:10:05.597606",
     "exception": false,
     "start_time": "2021-11-30T00:10:05.528666",
     "status": "completed"
    },
    "tags": []
   },
   "source": [
    "### 3. Collaborative Filtering\n",
    "\n",
    "<div align='left'><font size=\"3\" color=\"#000000\"> In general, Collaborative filtering (CF) is more commonly used than content-based systems because it usually gives better results and is relatively easy to understand (from an overall implementation perspective). CF is based on the idea that the best recommendations come from people who have similar tastes. In other words, it uses historical item ratings of like-minded people to predict how someone would rate an item.\n",
    "</font></div>\n",
    "\n",
    "<div align='left'><font size=\"3\" color=\"#000000\"> Collaborative filtering recommends the set of items based on what is called the user-item interaction matrix. Here is how the user-item interaction matrix look likes.\n",
    "</font></div>\n",
    "\n"
   ]
  },
  {
   "cell_type": "markdown",
   "id": "66466128",
   "metadata": {
    "papermill": {
     "duration": 0.067048,
     "end_time": "2021-11-30T00:10:05.732230",
     "exception": false,
     "start_time": "2021-11-30T00:10:05.665182",
     "status": "completed"
    },
    "tags": []
   },
   "source": [
    "> <center><img src=\"https://miro.medium.com/max/614/1*HzXfBUMiFl6gezFT9bx-Tw.png\" width=\"500px\"></center>"
   ]
  },
  {
   "cell_type": "markdown",
   "id": "6c3d2e6b",
   "metadata": {
    "papermill": {
     "duration": 0.067329,
     "end_time": "2021-11-30T00:10:05.869363",
     "exception": false,
     "start_time": "2021-11-30T00:10:05.802034",
     "status": "completed"
    },
    "tags": []
   },
   "source": [
    "<div align='left'><font size=\"3\" color=\"#000000\">Collaborative filtering  can be divided into two:\n",
    "</font></div>\n",
    "\n",
    "<div align='left'><font size=\"3\" color=\"#000000\"> \n",
    "<ul>\n",
    "  <li>Memory-Based Collaborative Filtering</li>\n",
    "  <li>Model-Based Collaborative filtering</li>\n",
    "</ul>\n",
    "</font></div>\n",
    "\n",
    "#### 1.1 Memory-Based Collaborative Filtering\n",
    "\n",
    "<div align='left'><font size=\"3\" color=\"#000000\">Memory-Based Collaborative Filtering approaches can be divided into two main sections: \n",
    "</font></div>\n",
    "\n",
    "<div align='left'><font size=\"3\" color=\"#000000\"> \n",
    "<ul>\n",
    "  <li>User-item filtering</li>\n",
    "  <li>Item-item filtering</li>\n",
    "</ul>\n",
    "</font></div>\n",
    "\n",
    "<div align='left'><font size=\"3\" color=\"#000000\">A user-item filtering will take a particular user, find users that are similar to that user based on similarity of ratings, and recommend items that those similar users liked. \n",
    "</font></div>\n",
    "\n",
    "<div align='left'><font size=\"3\" color=\"#000000\">In contrast, item-item filtering will take an item, find users who liked that item, and find other items that those users or similar users also liked. It takes items and outputs other items as recommendations. \n",
    "</font></div>\n",
    "\n",
    "<div align='left'><font size=\"3\" color=\"#000000\"> \n",
    "<ul>\n",
    "  <li>Item-Item Collaborative Filtering: “Users who liked this item also liked …”</li>\n",
    "  <li>User-Item Collaborative Filtering: “Users who are similar to you also liked …”</li>\n",
    "</ul>\n",
    "</font></div>"
   ]
  },
  {
   "cell_type": "markdown",
   "id": "480d42ff",
   "metadata": {
    "papermill": {
     "duration": 0.069769,
     "end_time": "2021-11-30T00:10:06.007848",
     "exception": false,
     "start_time": "2021-11-30T00:10:05.938079",
     "status": "completed"
    },
    "tags": []
   },
   "source": [
    "#### 1.1.1 Collaberative filtering (User-Item recommedation)"
   ]
  },
  {
   "cell_type": "markdown",
   "id": "e866eb1d",
   "metadata": {
    "papermill": {
     "duration": 0.068566,
     "end_time": "2021-11-30T00:10:06.146695",
     "exception": false,
     "start_time": "2021-11-30T00:10:06.078129",
     "status": "completed"
    },
    "tags": []
   },
   "source": [
    "<div align='left'><font size=\"3\" color=\"#000000\">In this method we will be using a well-known matrix factorization called Singular value decomposition (SVD). This technique will personalize our recommendation based on the similar group of users we derived from the above user-item interaction matrix. The below figure shows you how we came up with the set of recommendations for user#1. You can see that for each user, the set of recommendations will change based on the group of similar users, and the group of similar users will vary based on how user#1 interacts with each item.\n",
    "</font></div>"
   ]
  },
  {
   "cell_type": "markdown",
   "id": "fa0135c9",
   "metadata": {
    "papermill": {
     "duration": 0.07026,
     "end_time": "2021-11-30T00:10:06.287794",
     "exception": false,
     "start_time": "2021-11-30T00:10:06.217534",
     "status": "completed"
    },
    "tags": []
   },
   "source": [
    "> <center><img src=\"https://miro.medium.com/max/700/1*YGDIaNdODnlvhA7BrDoXVA.png\" width=\"700px\"></center>"
   ]
  },
  {
   "cell_type": "code",
   "execution_count": 31,
   "id": "9ddbfbb5",
   "metadata": {
    "execution": {
     "iopub.execute_input": "2021-11-30T00:10:06.433485Z",
     "iopub.status.busy": "2021-11-30T00:10:06.432287Z",
     "iopub.status.idle": "2021-11-30T00:10:06.435230Z",
     "shell.execute_reply": "2021-11-30T00:10:06.434594Z",
     "shell.execute_reply.started": "2021-11-29T06:43:02.849487Z"
    },
    "papermill": {
     "duration": 0.078743,
     "end_time": "2021-11-30T00:10:06.435405",
     "exception": false,
     "start_time": "2021-11-30T00:10:06.356662",
     "status": "completed"
    },
    "tags": []
   },
   "outputs": [],
   "source": [
    "reader = Reader()"
   ]
  },
  {
   "cell_type": "code",
   "execution_count": 32,
   "id": "1db1ae3f",
   "metadata": {
    "execution": {
     "iopub.execute_input": "2021-11-30T00:10:06.584071Z",
     "iopub.status.busy": "2021-11-30T00:10:06.582913Z",
     "iopub.status.idle": "2021-11-30T00:10:06.594516Z",
     "shell.execute_reply": "2021-11-30T00:10:06.595273Z",
     "shell.execute_reply.started": "2021-11-29T06:43:02.854175Z"
    },
    "papermill": {
     "duration": 0.089305,
     "end_time": "2021-11-30T00:10:06.595496",
     "exception": false,
     "start_time": "2021-11-30T00:10:06.506191",
     "status": "completed"
    },
    "tags": []
   },
   "outputs": [
    {
     "data": {
      "text/html": [
       "<div>\n",
       "<style scoped>\n",
       "    .dataframe tbody tr th:only-of-type {\n",
       "        vertical-align: middle;\n",
       "    }\n",
       "\n",
       "    .dataframe tbody tr th {\n",
       "        vertical-align: top;\n",
       "    }\n",
       "\n",
       "    .dataframe thead th {\n",
       "        text-align: right;\n",
       "    }\n",
       "</style>\n",
       "<table border=\"1\" class=\"dataframe\">\n",
       "  <thead>\n",
       "    <tr style=\"text-align: right;\">\n",
       "      <th></th>\n",
       "      <th>userId</th>\n",
       "      <th>productId</th>\n",
       "      <th>rating</th>\n",
       "      <th>timestamp</th>\n",
       "    </tr>\n",
       "  </thead>\n",
       "  <tbody>\n",
       "    <tr>\n",
       "      <th>0</th>\n",
       "      <td>AKM1MP6P0OYPR</td>\n",
       "      <td>0132793040</td>\n",
       "      <td>5.0</td>\n",
       "      <td>1365811200</td>\n",
       "    </tr>\n",
       "    <tr>\n",
       "      <th>1</th>\n",
       "      <td>A2CX7LUOHB2NDG</td>\n",
       "      <td>0321732944</td>\n",
       "      <td>5.0</td>\n",
       "      <td>1341100800</td>\n",
       "    </tr>\n",
       "    <tr>\n",
       "      <th>2</th>\n",
       "      <td>A2NWSAGRHCP8N5</td>\n",
       "      <td>0439886341</td>\n",
       "      <td>1.0</td>\n",
       "      <td>1367193600</td>\n",
       "    </tr>\n",
       "    <tr>\n",
       "      <th>3</th>\n",
       "      <td>A2WNBOD3WNDNKT</td>\n",
       "      <td>0439886341</td>\n",
       "      <td>3.0</td>\n",
       "      <td>1374451200</td>\n",
       "    </tr>\n",
       "    <tr>\n",
       "      <th>4</th>\n",
       "      <td>A1GI0U4ZRJA8WN</td>\n",
       "      <td>0439886341</td>\n",
       "      <td>1.0</td>\n",
       "      <td>1334707200</td>\n",
       "    </tr>\n",
       "  </tbody>\n",
       "</table>\n",
       "</div>"
      ],
      "text/plain": [
       "           userId   productId  rating   timestamp\n",
       "0   AKM1MP6P0OYPR  0132793040     5.0  1365811200\n",
       "1  A2CX7LUOHB2NDG  0321732944     5.0  1341100800\n",
       "2  A2NWSAGRHCP8N5  0439886341     1.0  1367193600\n",
       "3  A2WNBOD3WNDNKT  0439886341     3.0  1374451200\n",
       "4  A1GI0U4ZRJA8WN  0439886341     1.0  1334707200"
      ]
     },
     "execution_count": 32,
     "metadata": {},
     "output_type": "execute_result"
    }
   ],
   "source": [
    "df.head()"
   ]
  },
  {
   "cell_type": "code",
   "execution_count": 33,
   "id": "17b17bb3",
   "metadata": {
    "execution": {
     "iopub.execute_input": "2021-11-30T00:10:06.741624Z",
     "iopub.status.busy": "2021-11-30T00:10:06.740478Z",
     "iopub.status.idle": "2021-11-30T00:10:06.755549Z",
     "shell.execute_reply": "2021-11-30T00:10:06.756296Z",
     "shell.execute_reply.started": "2021-11-29T06:43:02.878824Z"
    },
    "papermill": {
     "duration": 0.089968,
     "end_time": "2021-11-30T00:10:06.756530",
     "exception": false,
     "start_time": "2021-11-30T00:10:06.666562",
     "status": "completed"
    },
    "tags": []
   },
   "outputs": [],
   "source": [
    "data = Dataset.load_from_df(df[['userId', 'productId', 'rating']], reader)"
   ]
  },
  {
   "cell_type": "code",
   "execution_count": 34,
   "id": "26af8836",
   "metadata": {
    "execution": {
     "iopub.execute_input": "2021-11-30T00:10:06.909807Z",
     "iopub.status.busy": "2021-11-30T00:10:06.908647Z",
     "iopub.status.idle": "2021-11-30T00:10:09.113906Z",
     "shell.execute_reply": "2021-11-30T00:10:09.113161Z",
     "shell.execute_reply.started": "2021-11-29T06:43:02.890788Z"
    },
    "papermill": {
     "duration": 2.287036,
     "end_time": "2021-11-30T00:10:09.114117",
     "exception": false,
     "start_time": "2021-11-30T00:10:06.827081",
     "status": "completed"
    },
    "tags": []
   },
   "outputs": [
    {
     "name": "stdout",
     "output_type": "stream",
     "text": [
      "Evaluating RMSE, MAE of algorithm SVD on 5 split(s).\n",
      "\n",
      "                  Fold 1  Fold 2  Fold 3  Fold 4  Fold 5  Mean    Std     \n",
      "RMSE (testset)    1.4031  1.3140  1.3673  1.3382  1.3889  1.3623  0.0326  \n",
      "MAE (testset)     1.1339  1.0806  1.0978  1.0878  1.1300  1.1060  0.0219  \n",
      "Fit time          0.41    0.41    0.42    0.42    0.42    0.42    0.00    \n",
      "Test time         0.01    0.01    0.01    0.01    0.01    0.01    0.00    \n"
     ]
    },
    {
     "data": {
      "text/plain": [
       "{'test_rmse': array([1.40307088, 1.31402659, 1.36734164, 1.33816868, 1.38888494]),\n",
       " 'test_mae': array([1.13387536, 1.08057958, 1.09778344, 1.08783654, 1.12996641]),\n",
       " 'fit_time': (0.40844202041625977,\n",
       "  0.413013219833374,\n",
       "  0.422243595123291,\n",
       "  0.4189414978027344,\n",
       "  0.41671276092529297),\n",
       " 'test_time': (0.009966373443603516,\n",
       "  0.00997018814086914,\n",
       "  0.009195566177368164,\n",
       "  0.009033679962158203,\n",
       "  0.009418249130249023)}"
      ]
     },
     "execution_count": 34,
     "metadata": {},
     "output_type": "execute_result"
    }
   ],
   "source": [
    "# Use the famous SVD algorithm\n",
    "svd = SVD()\n",
    "\n",
    "# Run 5-fold cross-validation and then print results\n",
    "cross_validate(svd, data, measures=['RMSE', 'MAE'], cv=5, verbose=True)"
   ]
  },
  {
   "cell_type": "markdown",
   "id": "9c0b8506",
   "metadata": {
    "papermill": {
     "duration": 0.071919,
     "end_time": "2021-11-30T00:10:09.255905",
     "exception": false,
     "start_time": "2021-11-30T00:10:09.183986",
     "status": "completed"
    },
    "tags": []
   },
   "source": [
    "<div align='left'><font size=\"3\" color=\"#000000\">From these results, the mean Root Mean Square Error is not good for our case, this happens due to several factors such as lack of training data because we only apply 5000 data. Now let's train our dataset and make some predictions.\n",
    "</font></div>"
   ]
  },
  {
   "cell_type": "code",
   "execution_count": 35,
   "id": "036c8de5",
   "metadata": {
    "execution": {
     "iopub.execute_input": "2021-11-30T00:10:09.401511Z",
     "iopub.status.busy": "2021-11-30T00:10:09.400408Z",
     "iopub.status.idle": "2021-11-30T00:10:09.940064Z",
     "shell.execute_reply": "2021-11-30T00:10:09.940852Z",
     "shell.execute_reply.started": "2021-11-29T07:06:13.30915Z"
    },
    "papermill": {
     "duration": 0.613811,
     "end_time": "2021-11-30T00:10:09.941071",
     "exception": false,
     "start_time": "2021-11-30T00:10:09.327260",
     "status": "completed"
    },
    "tags": []
   },
   "outputs": [
    {
     "data": {
      "text/plain": [
       "<surprise.prediction_algorithms.matrix_factorization.SVD at 0x7fce07010050>"
      ]
     },
     "execution_count": 35,
     "metadata": {},
     "output_type": "execute_result"
    }
   ],
   "source": [
    "trainset = data.build_full_trainset()\n",
    "svd.fit(trainset)"
   ]
  },
  {
   "cell_type": "code",
   "execution_count": 36,
   "id": "cd8ff71d",
   "metadata": {
    "execution": {
     "iopub.execute_input": "2021-11-30T00:10:10.098320Z",
     "iopub.status.busy": "2021-11-30T00:10:10.097455Z",
     "iopub.status.idle": "2021-11-30T00:10:10.101290Z",
     "shell.execute_reply": "2021-11-30T00:10:10.101864Z",
     "shell.execute_reply.started": "2021-11-29T07:08:06.2038Z"
    },
    "papermill": {
     "duration": 0.088658,
     "end_time": "2021-11-30T00:10:10.102077",
     "exception": false,
     "start_time": "2021-11-30T00:10:10.013419",
     "status": "completed"
    },
    "tags": []
   },
   "outputs": [
    {
     "data": {
      "text/html": [
       "<div>\n",
       "<style scoped>\n",
       "    .dataframe tbody tr th:only-of-type {\n",
       "        vertical-align: middle;\n",
       "    }\n",
       "\n",
       "    .dataframe tbody tr th {\n",
       "        vertical-align: top;\n",
       "    }\n",
       "\n",
       "    .dataframe thead th {\n",
       "        text-align: right;\n",
       "    }\n",
       "</style>\n",
       "<table border=\"1\" class=\"dataframe\">\n",
       "  <thead>\n",
       "    <tr style=\"text-align: right;\">\n",
       "      <th></th>\n",
       "      <th>userId</th>\n",
       "      <th>productId</th>\n",
       "      <th>rating</th>\n",
       "      <th>timestamp</th>\n",
       "    </tr>\n",
       "  </thead>\n",
       "  <tbody>\n",
       "    <tr>\n",
       "      <th>0</th>\n",
       "      <td>AKM1MP6P0OYPR</td>\n",
       "      <td>0132793040</td>\n",
       "      <td>5.0</td>\n",
       "      <td>1365811200</td>\n",
       "    </tr>\n",
       "    <tr>\n",
       "      <th>1</th>\n",
       "      <td>A2CX7LUOHB2NDG</td>\n",
       "      <td>0321732944</td>\n",
       "      <td>5.0</td>\n",
       "      <td>1341100800</td>\n",
       "    </tr>\n",
       "    <tr>\n",
       "      <th>2</th>\n",
       "      <td>A2NWSAGRHCP8N5</td>\n",
       "      <td>0439886341</td>\n",
       "      <td>1.0</td>\n",
       "      <td>1367193600</td>\n",
       "    </tr>\n",
       "    <tr>\n",
       "      <th>3</th>\n",
       "      <td>A2WNBOD3WNDNKT</td>\n",
       "      <td>0439886341</td>\n",
       "      <td>3.0</td>\n",
       "      <td>1374451200</td>\n",
       "    </tr>\n",
       "    <tr>\n",
       "      <th>4</th>\n",
       "      <td>A1GI0U4ZRJA8WN</td>\n",
       "      <td>0439886341</td>\n",
       "      <td>1.0</td>\n",
       "      <td>1334707200</td>\n",
       "    </tr>\n",
       "  </tbody>\n",
       "</table>\n",
       "</div>"
      ],
      "text/plain": [
       "           userId   productId  rating   timestamp\n",
       "0   AKM1MP6P0OYPR  0132793040     5.0  1365811200\n",
       "1  A2CX7LUOHB2NDG  0321732944     5.0  1341100800\n",
       "2  A2NWSAGRHCP8N5  0439886341     1.0  1367193600\n",
       "3  A2WNBOD3WNDNKT  0439886341     3.0  1374451200\n",
       "4  A1GI0U4ZRJA8WN  0439886341     1.0  1334707200"
      ]
     },
     "execution_count": 36,
     "metadata": {},
     "output_type": "execute_result"
    }
   ],
   "source": [
    "df.head()"
   ]
  },
  {
   "cell_type": "code",
   "execution_count": 37,
   "id": "abdf708a",
   "metadata": {
    "execution": {
     "iopub.execute_input": "2021-11-30T00:10:10.250540Z",
     "iopub.status.busy": "2021-11-30T00:10:10.249447Z",
     "iopub.status.idle": "2021-11-30T00:10:10.262296Z",
     "shell.execute_reply": "2021-11-30T00:10:10.261539Z",
     "shell.execute_reply.started": "2021-11-29T07:12:53.582782Z"
    },
    "papermill": {
     "duration": 0.088333,
     "end_time": "2021-11-30T00:10:10.262467",
     "exception": false,
     "start_time": "2021-11-30T00:10:10.174134",
     "status": "completed"
    },
    "tags": []
   },
   "outputs": [
    {
     "data": {
      "text/plain": [
       "A3LDPF5FMB782Z    5\n",
       "A36V8NDDRZYRYO    3\n",
       "A3E7PG9CHDBICA    3\n",
       "AOY9SZTMNQWAW     3\n",
       "A2FHM5FB0BXKGA    3\n",
       "                 ..\n",
       "A1W92X1R9QNM2C    1\n",
       "A1KW4AGRCOIWI2    1\n",
       "A1B6WHCBJSNO6J    1\n",
       "A3BEVLI33Q0ZF4    1\n",
       "A1TYKVIT4FTMRO    1\n",
       "Name: userId, Length: 4929, dtype: int64"
      ]
     },
     "execution_count": 37,
     "metadata": {},
     "output_type": "execute_result"
    }
   ],
   "source": [
    "df['userId'].value_counts()"
   ]
  },
  {
   "cell_type": "code",
   "execution_count": 38,
   "id": "eabb9a23",
   "metadata": {
    "execution": {
     "iopub.execute_input": "2021-11-30T00:10:10.411287Z",
     "iopub.status.busy": "2021-11-30T00:10:10.410220Z",
     "iopub.status.idle": "2021-11-30T00:10:10.423988Z",
     "shell.execute_reply": "2021-11-30T00:10:10.424574Z",
     "shell.execute_reply.started": "2021-11-29T07:13:13.929828Z"
    },
    "papermill": {
     "duration": 0.08985,
     "end_time": "2021-11-30T00:10:10.424808",
     "exception": false,
     "start_time": "2021-11-30T00:10:10.334958",
     "status": "completed"
    },
    "tags": []
   },
   "outputs": [
    {
     "data": {
      "text/html": [
       "<div>\n",
       "<style scoped>\n",
       "    .dataframe tbody tr th:only-of-type {\n",
       "        vertical-align: middle;\n",
       "    }\n",
       "\n",
       "    .dataframe tbody tr th {\n",
       "        vertical-align: top;\n",
       "    }\n",
       "\n",
       "    .dataframe thead th {\n",
       "        text-align: right;\n",
       "    }\n",
       "</style>\n",
       "<table border=\"1\" class=\"dataframe\">\n",
       "  <thead>\n",
       "    <tr style=\"text-align: right;\">\n",
       "      <th></th>\n",
       "      <th>userId</th>\n",
       "      <th>productId</th>\n",
       "      <th>rating</th>\n",
       "      <th>timestamp</th>\n",
       "    </tr>\n",
       "  </thead>\n",
       "  <tbody>\n",
       "    <tr>\n",
       "      <th>1310</th>\n",
       "      <td>A3LDPF5FMB782Z</td>\n",
       "      <td>1400501466</td>\n",
       "      <td>5.0</td>\n",
       "      <td>1336003200</td>\n",
       "    </tr>\n",
       "    <tr>\n",
       "      <th>1588</th>\n",
       "      <td>A3LDPF5FMB782Z</td>\n",
       "      <td>1400501520</td>\n",
       "      <td>5.0</td>\n",
       "      <td>1362873600</td>\n",
       "    </tr>\n",
       "    <tr>\n",
       "      <th>1696</th>\n",
       "      <td>A3LDPF5FMB782Z</td>\n",
       "      <td>1400501776</td>\n",
       "      <td>5.0</td>\n",
       "      <td>1334102400</td>\n",
       "    </tr>\n",
       "    <tr>\n",
       "      <th>2502</th>\n",
       "      <td>A3LDPF5FMB782Z</td>\n",
       "      <td>140053271X</td>\n",
       "      <td>4.0</td>\n",
       "      <td>1310515200</td>\n",
       "    </tr>\n",
       "    <tr>\n",
       "      <th>3235</th>\n",
       "      <td>A3LDPF5FMB782Z</td>\n",
       "      <td>1400698987</td>\n",
       "      <td>4.0</td>\n",
       "      <td>1392854400</td>\n",
       "    </tr>\n",
       "  </tbody>\n",
       "</table>\n",
       "</div>"
      ],
      "text/plain": [
       "              userId   productId  rating   timestamp\n",
       "1310  A3LDPF5FMB782Z  1400501466     5.0  1336003200\n",
       "1588  A3LDPF5FMB782Z  1400501520     5.0  1362873600\n",
       "1696  A3LDPF5FMB782Z  1400501776     5.0  1334102400\n",
       "2502  A3LDPF5FMB782Z  140053271X     4.0  1310515200\n",
       "3235  A3LDPF5FMB782Z  1400698987     4.0  1392854400"
      ]
     },
     "execution_count": 38,
     "metadata": {},
     "output_type": "execute_result"
    }
   ],
   "source": [
    "# Check specific userId review\n",
    "df[df['userId'] == 'A3LDPF5FMB782Z']"
   ]
  },
  {
   "cell_type": "code",
   "execution_count": 39,
   "id": "a1caf089",
   "metadata": {
    "execution": {
     "iopub.execute_input": "2021-11-30T00:10:10.573476Z",
     "iopub.status.busy": "2021-11-30T00:10:10.572745Z",
     "iopub.status.idle": "2021-11-30T00:10:10.576363Z",
     "shell.execute_reply": "2021-11-30T00:10:10.577087Z",
     "shell.execute_reply.started": "2021-11-29T07:15:40.780736Z"
    },
    "papermill": {
     "duration": 0.081462,
     "end_time": "2021-11-30T00:10:10.577284",
     "exception": false,
     "start_time": "2021-11-30T00:10:10.495822",
     "status": "completed"
    },
    "tags": []
   },
   "outputs": [
    {
     "data": {
      "text/plain": [
       "Prediction(uid='A3LDPF5FMB782Z', iid='140053271X', r_ui=5.0, est=3.9088877933601527, details={'was_impossible': False})"
      ]
     },
     "execution_count": 39,
     "metadata": {},
     "output_type": "execute_result"
    }
   ],
   "source": [
    "# predict based on this data\n",
    "svd.predict('A3LDPF5FMB782Z', '140053271X', 5.0)"
   ]
  },
  {
   "cell_type": "markdown",
   "id": "b84a621d",
   "metadata": {
    "papermill": {
     "duration": 0.071731,
     "end_time": "2021-11-30T00:10:10.720936",
     "exception": false,
     "start_time": "2021-11-30T00:10:10.649205",
     "status": "completed"
    },
    "tags": []
   },
   "source": [
    "<div align='left'><font size=\"3\" color=\"#000000\">From the prediction results, we have estimation that are quite close to the actual value.\n",
    "</font></div>"
   ]
  },
  {
   "cell_type": "markdown",
   "id": "50b554c4",
   "metadata": {
    "papermill": {
     "duration": 0.07151,
     "end_time": "2021-11-30T00:10:10.863826",
     "exception": false,
     "start_time": "2021-11-30T00:10:10.792316",
     "status": "completed"
    },
    "tags": []
   },
   "source": [
    "<a id=\"hybrid\"></a>\n",
    "### 4. Hybrid"
   ]
  },
  {
   "cell_type": "markdown",
   "id": "28e2e8c5",
   "metadata": {
    "papermill": {
     "duration": 0.073312,
     "end_time": "2021-11-30T00:10:11.012530",
     "exception": false,
     "start_time": "2021-11-30T00:10:10.939218",
     "status": "completed"
    },
    "tags": []
   },
   "source": [
    "<div align='left'><font size=\"3\" color=\"#000000\">We see that each method has its strength. It would be best if we can combine all those strengths and provide a better recommendation. This idea leads us to another improvement of the recommendation, which is the hybrid method. For example, we can combine the content-based and item-based collaborative filtering recommendations together to leverage both domain features (genres and user-item interaction).\n",
    "</font></div>"
   ]
  },
  {
   "cell_type": "markdown",
   "id": "972e6a1b",
   "metadata": {
    "papermill": {
     "duration": 0.070374,
     "end_time": "2021-11-30T00:10:11.153999",
     "exception": false,
     "start_time": "2021-11-30T00:10:11.083625",
     "status": "completed"
    },
    "tags": []
   },
   "source": [
    "## 5. References"
   ]
  },
  {
   "cell_type": "markdown",
   "id": "f5d804cd",
   "metadata": {
    "papermill": {
     "duration": 0.073115,
     "end_time": "2021-11-30T00:10:11.298196",
     "exception": false,
     "start_time": "2021-11-30T00:10:11.225081",
     "status": "completed"
    },
    "tags": []
   },
   "source": [
    "<div align='left'><font size=\"3\" color=\"#000000\"> \n",
    "<ul>\n",
    "  <li>https://www.kaggle.com/rounakbanik/movie-recommender-systems</li>\n",
    "  <li>https://towardsdatascience.com/a-complete-guide-to-recommender-system-tutorial-with-sklearn-surprise-keras-recommender-5e52e8ceace1</li>\n",
    "</ul>\n",
    "</font></div>"
   ]
  }
 ],
 "metadata": {
  "kernelspec": {
   "display_name": "Python 3 (ipykernel)",
   "language": "python",
   "name": "python3"
  },
  "language_info": {
   "codemirror_mode": {
    "name": "ipython",
    "version": 3
   },
   "file_extension": ".py",
   "mimetype": "text/x-python",
   "name": "python",
   "nbconvert_exporter": "python",
   "pygments_lexer": "ipython3",
   "version": "3.9.12"
  },
  "papermill": {
   "default_parameters": {},
   "duration": 43.26368,
   "end_time": "2021-11-30T00:10:12.786498",
   "environment_variables": {},
   "exception": null,
   "input_path": "__notebook__.ipynb",
   "output_path": "__notebook__.ipynb",
   "parameters": {},
   "start_time": "2021-11-30T00:09:29.522818",
   "version": "2.3.3"
  }
 },
 "nbformat": 4,
 "nbformat_minor": 5
}
